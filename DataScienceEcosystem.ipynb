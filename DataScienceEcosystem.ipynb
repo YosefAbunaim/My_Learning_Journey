{
 "cells": [
  {
   "cell_type": "markdown",
   "id": "79212876-e443-4367-852d-22104244d2ee",
   "metadata": {},
   "source": [
    "# Data Science Tools and Ecosystem"
   ]
  },
  {
   "cell_type": "markdown",
   "id": "4ceeb82a-2179-4964-9a92-5025e83d91dc",
   "metadata": {},
   "source": [
    "In this notebook, Data Science Tools and Ecosystem are summarized."
   ]
  },
  {
   "cell_type": "markdown",
   "id": "f1e4d813-4060-406e-bec9-6995575a85bf",
   "metadata": {},
   "source": [
    "## **Objectives**\n",
    "\n",
    "* List popular languages for Data Science\n",
    "* Doing simple arithmetic expression\n",
    "* Converting minutes to houres "
   ]
  },
  {
   "cell_type": "markdown",
   "id": "13673b7d-dfbc-4fd8-b4ee-af726c2374d2",
   "metadata": {},
   "source": [
    "Some of the popular languages that Data Scientists use are:\n",
    "1. Pyrhon\n",
    "2. R\n",
    "3. SQL"
   ]
  },
  {
   "cell_type": "markdown",
   "id": "c17401ab-ce46-44f5-8c19-586ae4dd3113",
   "metadata": {},
   "source": [
    "Some of data science libraries :\n",
    "\n",
    "* pandas\n",
    "* Numpy\n",
    "* Matplotlib\n",
    "* Seaborn\n",
    "* scikit-learn\n"
   ]
  },
  {
   "cell_type": "markdown",
   "id": "9f0be584-158c-4a48-ad49-bc8957dd5b95",
   "metadata": {},
   "source": [
    "| Data Science Tools |\n",
    "|-------|\n",
    "|Juputer Notebook|\n",
    "|RStudio|\n",
    "|VS Code|\n"
   ]
  },
  {
   "cell_type": "markdown",
   "id": "61aef530-5193-4335-94f2-27786338cca9",
   "metadata": {},
   "source": [
    "### Below are a few examples of evaluating arithmetic expressions in Python"
   ]
  },
  {
   "cell_type": "code",
   "execution_count": 1,
   "id": "dbe81b75-1e46-4bc0-a2a8-9170120fd5a9",
   "metadata": {},
   "outputs": [
    {
     "data": {
      "text/plain": [
       "17"
      ]
     },
     "execution_count": 1,
     "metadata": {},
     "output_type": "execute_result"
    }
   ],
   "source": [
    "# This a simple arithmetic expression to mutiply then add integers\n",
    "(3*4)+5"
   ]
  },
  {
   "cell_type": "code",
   "execution_count": 2,
   "id": "09597725-550f-4cb9-8527-6e3c7880d821",
   "metadata": {},
   "outputs": [
    {
     "name": "stdout",
     "output_type": "stream",
     "text": [
      "3.3333333333333335\n"
     ]
    }
   ],
   "source": [
    "#This will convert 200 minutes to hours by diving by 60\n",
    "hours = 200/60\n",
    "print(hours)"
   ]
  },
  {
   "cell_type": "markdown",
   "id": "748a352c-cb5b-403e-bd4a-ddf1bfc2dac7",
   "metadata": {},
   "source": [
    "## Auther\n",
    "name: Yousef Abunaim"
   ]
  }
 ],
 "metadata": {
  "kernelspec": {
   "display_name": "Python 3 (ipykernel)",
   "language": "python",
   "name": "python3"
  },
  "language_info": {
   "codemirror_mode": {
    "name": "ipython",
    "version": 3
   },
   "file_extension": ".py",
   "mimetype": "text/x-python",
   "name": "python",
   "nbconvert_exporter": "python",
   "pygments_lexer": "ipython3",
   "version": "3.12.7"
  }
 },
 "nbformat": 4,
 "nbformat_minor": 5
}
